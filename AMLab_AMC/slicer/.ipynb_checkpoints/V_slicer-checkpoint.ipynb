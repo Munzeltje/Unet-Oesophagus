{
 "cells": [
  {
   "cell_type": "code",
   "execution_count": 5,
   "metadata": {},
   "outputs": [],
   "source": [
    "import numpy as np\n",
    "from ImageSlicer import ImageSlicer\n",
    "import re\n",
    "import os"
   ]
  },
  {
   "cell_type": "code",
   "execution_count": 6,
   "metadata": {},
   "outputs": [],
   "source": [
    "\n",
    "def slice_images(rootdir,targetdir,extension,dim,strides,padding=False,labels=False):\n",
    "    \"\"\"\n",
    "    input: - rootdir (str): root directory where the subfolders with the source images reside\n",
    "           - targetdir (str): target directory where the subimages should be saved, note that\n",
    "                        the folder must already exist and be empty before execution\n",
    "           - extension (str): image extension; jpg,jpeg,png,tiff.\n",
    "           - dim ((int,int)): desired subimage dimension\n",
    "           - strides [int,int]: image overlap stride\n",
    "    output: folder with all the sliced images from the root directory.\n",
    "    \"\"\"\n",
    "    for directory in os.listdir(rootdir):\n",
    "        dir_path=rootdir+'/'+directory\n",
    "        for file in os.listdir(dir_path):\n",
    "            if extension in file:\n",
    "                path = dir_path+'/'+file\n",
    "                slice_image = ImageSlicer(path, dim,strides=strides,labels=labels,PADDING=padding) \n",
    "                transformed_image = slice_image.transform()\n",
    "                #Provide the directory where you want to save the sliced images\n",
    "                slice_image.save_images_directory(transformed_image,targetdir) \n",
    "\n",
    "    \n",
    "\n"
   ]
  },
  {
   "cell_type": "code",
   "execution_count": 9,
   "metadata": {},
   "outputs": [],
   "source": [
    "slice_images(\"/home/argos/Projects/AMC/UvA_Master/BigTiff/20x\",\"/home/argos/Projects/AMC/Implementation/Unet-Medical/pytorch-unet-master/data/new_train\",\".tiff\",(256,256),[192,192],padding=False,labels=False)"
   ]
  },
  {
   "cell_type": "code",
   "execution_count": 10,
   "metadata": {},
   "outputs": [],
   "source": [
    "slice_images(\"/home/argos/Projects/AMC/UvA_Master/Masks/masks\",\"/home/argos/Projects/AMC/Implementation/Unet-Medical/pytorch-unet-master/data/new_train_masks\",\".png\",(256,256),[192,192],padding=False,labels=True)"
   ]
  },
  {
   "cell_type": "code",
   "execution_count": null,
   "metadata": {},
   "outputs": [],
   "source": []
  }
 ],
 "metadata": {
  "kernelspec": {
   "display_name": "Python 3",
   "language": "python",
   "name": "python3"
  },
  "language_info": {
   "codemirror_mode": {
    "name": "ipython",
    "version": 3
   },
   "file_extension": ".py",
   "mimetype": "text/x-python",
   "name": "python",
   "nbconvert_exporter": "python",
   "pygments_lexer": "ipython3",
   "version": "3.6.6"
  }
 },
 "nbformat": 4,
 "nbformat_minor": 2
}
